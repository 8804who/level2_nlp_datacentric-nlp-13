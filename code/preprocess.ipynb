{
 "cells": [
  {
   "cell_type": "code",
   "execution_count": 95,
   "metadata": {},
   "outputs": [],
   "source": [
    "import os\n",
    "import sys\n",
    "import pandas as pd\n",
    "import numpy as np\n",
    "import requests\n",
    "from bs4 import BeautifulSoup\n",
    "import re\n",
    "import html\n",
    "\n",
    "BASE_DIR = os.getcwd()\n",
    "DATA_DIR = os.path.join(BASE_DIR, '../data')\n",
    "\n",
    "data = pd.read_csv(DATA_DIR+'/train.csv')"
   ]
  },
  {
   "cell_type": "code",
   "execution_count": 96,
   "metadata": {},
   "outputs": [],
   "source": [
    "noise = set()\n",
    "special = re.compile(r'[^ A-Za-z0-9가-힣]')"
   ]
  },
  {
   "cell_type": "code",
   "execution_count": 97,
   "metadata": {},
   "outputs": [],
   "source": [
    "crawl = pd.read_csv('../data/crawling_train.csv')\n"
   ]
  },
  {
   "cell_type": "code",
   "execution_count": 98,
   "metadata": {},
   "outputs": [],
   "source": [
    "texts = []\n",
    "for i, item in enumerate(crawl.itertuples()):\n",
    "    t1 = item.text\n",
    "    t2 = item.crawling_text\n",
    "    t1 = special.sub('', t1)\n",
    "    t2 = special.sub('', t2)\n",
    "    t1 = re.sub(' +',' ', t1)\n",
    "    t2 = re.sub(' +',' ', t2)\n",
    "    if t1 not in t2 and t2 not in t1 and i:\n",
    "        texts.append(item.crawling_text)\n",
    "    else:\n",
    "        texts.append(item.text)\n",
    "\n",
    "pd.DataFrame({'ID': crawl.ID,'text': texts, 'target': crawl.target, 'url': crawl.url, 'date': crawl.date}).to_csv('../data/denoised_text.csv', index=False)"
   ]
  },
  {
   "cell_type": "code",
   "execution_count": 109,
   "metadata": {},
   "outputs": [],
   "source": [
    "noise_data = pd.read_csv('../data/noise_data.csv')\n",
    "denoised_data = pd.read_csv('../data/denoised_text.csv')"
   ]
  },
  {
   "cell_type": "code",
   "execution_count": 111,
   "metadata": {},
   "outputs": [],
   "source": [
    "denoise_and_noise = pd.concat([denoised_data, noise_data], ignore_index=True)\n",
    "denoise_and_noise.to_csv('../data/denoised_text+noise.csv', index=False)"
   ]
  },
  {
   "cell_type": "code",
   "execution_count": null,
   "metadata": {},
   "outputs": [],
   "source": []
  }
 ],
 "metadata": {
  "kernelspec": {
   "display_name": "base",
   "language": "python",
   "name": "python3"
  },
  "language_info": {
   "codemirror_mode": {
    "name": "ipython",
    "version": 3
   },
   "file_extension": ".py",
   "mimetype": "text/x-python",
   "name": "python",
   "nbconvert_exporter": "python",
   "pygments_lexer": "ipython3",
   "version": "3.8.5"
  },
  "orig_nbformat": 4
 },
 "nbformat": 4,
 "nbformat_minor": 2
}
