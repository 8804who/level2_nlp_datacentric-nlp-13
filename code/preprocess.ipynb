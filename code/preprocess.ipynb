{
 "cells": [
  {
   "cell_type": "code",
   "execution_count": 85,
   "metadata": {},
   "outputs": [],
   "source": [
    "import os\n",
    "import pandas as pd\n",
    "import numpy as np\n",
    "import random\n",
    "import re\n",
    "\n",
    "BASE_DIR = os.getcwd()\n",
    "DATA_DIR = '/opt/ml/data/'\n",
    "random.seed(42)\n",
    "data = pd.read_csv(DATA_DIR+'/train.csv')"
   ]
  },
  {
   "cell_type": "code",
   "execution_count": 86,
   "metadata": {},
   "outputs": [],
   "source": [
    "noise = set()\n",
    "special = re.compile(r'[^ A-Za-z0-9가-힣一-龥]')"
   ]
  },
  {
   "cell_type": "code",
   "execution_count": 87,
   "metadata": {},
   "outputs": [],
   "source": [
    "noise_data = pd.read_csv('/opt/ml/data/noise_data.csv')\n",
    "denoised_data = pd.read_csv('/opt/ml/data/denoised_text.csv')\n",
    "original_text = pd.read_csv('/opt/ml/data/original_text.csv')"
   ]
  },
  {
   "cell_type": "code",
   "execution_count": 88,
   "metadata": {},
   "outputs": [],
   "source": [
    "denoise_and_noise=denoised_data.copy()\n",
    "for data in noise_data.itertuples():\n",
    "    prob = random.uniform(0, 1)\n",
    "    if prob >= 0.6:\n",
    "        denoise_and_noise=pd.concat([denoise_and_noise, pd.DataFrame({'ID':[data.ID],'text':[data.text],'target':[data.target], 'url':[data.url],'date':[data.date]})], ignore_index=True)\n",
    "denoise_and_noise = denoise_and_noise.drop_duplicates(['ID'], keep='last')\n",
    "denoise_and_noise = denoise_and_noise.sample(frac=1).reset_index(drop=True)\n",
    "denoise_and_noise.to_csv('/opt/ml/data/denoised_text+noise.csv', index=False)"
   ]
  },
  {
   "cell_type": "code",
   "execution_count": null,
   "metadata": {},
   "outputs": [],
   "source": [
    "texts = []\n",
    "for text in original_text.text:\n",
    "    texts.append(special.sub('',text))\n",
    "\n",
    "original_text_no_special = pd.DataFrame({'ID':original_text.ID,'text':texts,'target':original_text.target, 'url':original_text.url,'date':original_text.date})\n",
    "original_text_no_special.to_csv('/opt/ml/data/original_text_no_special.csv', index=False)"
   ]
  },
  {
   "cell_type": "code",
   "execution_count": null,
   "metadata": {},
   "outputs": [],
   "source": []
  }
 ],
 "metadata": {
  "kernelspec": {
   "display_name": "base",
   "language": "python",
   "name": "python3"
  },
  "language_info": {
   "codemirror_mode": {
    "name": "ipython",
    "version": 3
   },
   "file_extension": ".py",
   "mimetype": "text/x-python",
   "name": "python",
   "nbconvert_exporter": "python",
   "pygments_lexer": "ipython3",
   "version": "3.8.5"
  },
  "orig_nbformat": 4
 },
 "nbformat": 4,
 "nbformat_minor": 2
}
