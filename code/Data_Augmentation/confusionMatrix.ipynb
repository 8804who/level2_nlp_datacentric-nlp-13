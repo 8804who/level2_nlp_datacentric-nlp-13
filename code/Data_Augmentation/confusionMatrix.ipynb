{
 "cells": [
  {
   "cell_type": "code",
   "execution_count": null,
   "id": "835a27c5-34c2-4650-a482-5e206892e10d",
   "metadata": {},
   "outputs": [],
   "source": [
    "import pandas as pd\n",
    "from collections import Counter\n",
    "from matplotlib import pyplot as plt\n",
    "from sklearn.metrics import confusion_matrix\n",
    "import seaborn as sns"
   ]
  },
  {
   "attachments": {},
   "cell_type": "markdown",
   "id": "6216b923-865a-4c40-b41e-0e1a5018cbc7",
   "metadata": {},
   "source": [
    "#### Confusion Matrix"
   ]
  },
  {
   "attachments": {},
   "cell_type": "markdown",
   "id": "8c52ea3e-cb69-4787-bb23-29bc7de5e8c5",
   "metadata": {},
   "source": [
    "#### Comparison between original data and re-labeled data"
   ]
  },
  {
   "cell_type": "code",
   "execution_count": null,
   "id": "a410ac54-4e76-4f92-bc79-ed3b3d0abf19",
   "metadata": {
    "tags": []
   },
   "outputs": [],
   "source": [
    "df1=pd.read_csv('../data/no_noise_data.csv')\n",
    "df2=pd.read_csv('../data/news.csv')\n",
    "\n",
    "y_true = df2['target'].values.tolist()\n",
    "y_pred = df1['target'].values.tolist()\n",
    "cm=confusion_matrix(y_true, y_pred)\n",
    "\n",
    "sns.heatmap(cm, annot=True, cmap='Blues',fmt='g')\n",
    "plt.xlabel('Predicted')\n",
    "plt.ylabel('True')\n",
    "plt.show()"
   ]
  },
  {
   "attachments": {},
   "cell_type": "markdown",
   "id": "2f2c10a1-aa54-49fb-bb62-642ac95e26d7",
   "metadata": {},
   "source": [
    "#### Comparison between augmented data by chatGPT and re-labeled augmented data by chatGPT"
   ]
  },
  {
   "cell_type": "code",
   "execution_count": null,
   "id": "97fc0020-c478-440a-a9da-2126d52ec232",
   "metadata": {
    "tags": []
   },
   "outputs": [],
   "source": [
    "df1=pd.read_csv('../data/aug_data.csv')\n",
    "df2=pd.read_csv('../data/aug_news.csv')\n",
    "y_true = df2['target'].values.tolist()\n",
    "y_pred = df1['target'].values.tolist()\n",
    "cm=confusion_matrix(y_true, y_pred)\n",
    "cm\n",
    "sns.heatmap(cm, annot=True, cmap='Blues',fmt='g')\n",
    "plt.xlabel('Predicted')\n",
    "plt.ylabel('True')\n",
    "plt.show()"
   ]
  },
  {
   "attachments": {},
   "cell_type": "markdown",
   "id": "eb08c84a-35bc-4676-b6e6-8c6f66de9d23",
   "metadata": {},
   "source": [
    "#### Comparison between original data and preprocessed and re-labeled data"
   ]
  },
  {
   "cell_type": "code",
   "execution_count": null,
   "id": "9d837ee1-abeb-4027-b53a-f8dccd49dca8",
   "metadata": {
    "tags": []
   },
   "outputs": [],
   "source": [
    "df1=pd.read_csv('../data/no_noise_data.csv')\n",
    "df2=pd.read_csv('../data/news_prelabel.csv')\n",
    "y_true = df2['target'].values.tolist()\n",
    "y_pred = df1['target'].values.tolist()\n",
    "cm=confusion_matrix(y_true, y_pred)\n",
    "cm\n",
    "sns.heatmap(cm, annot=True, cmap='Blues',fmt='g')\n",
    "plt.xlabel('Predicted')\n",
    "plt.ylabel('True')\n",
    "plt.show()"
   ]
  }
 ],
 "metadata": {
  "kernelspec": {
   "display_name": "Python 3 (ipykernel)",
   "language": "python",
   "name": "python3"
  },
  "language_info": {
   "codemirror_mode": {
    "name": "ipython",
    "version": 3
   },
   "file_extension": ".py",
   "mimetype": "text/x-python",
   "name": "python",
   "nbconvert_exporter": "python",
   "pygments_lexer": "ipython3",
   "version": "3.8.5"
  }
 },
 "nbformat": 4,
 "nbformat_minor": 5
}
