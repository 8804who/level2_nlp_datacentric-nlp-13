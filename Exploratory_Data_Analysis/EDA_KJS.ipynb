{
 "cells": [
  {
   "cell_type": "code",
   "execution_count": null,
   "metadata": {},
   "outputs": [],
   "source": [
    "from collections import Counter\n",
    "import pandas as pd\n",
    "import numpy as np\n",
    "import matplotlib.font_manager as fm\n",
    "import matplotlib.pyplot as plt\n",
    "import seaborn as sns\n",
    "import os\n",
    "import sys"
   ]
  },
  {
   "attachments": {},
   "cell_type": "markdown",
   "metadata": {},
   "source": [
    "### EDA by KJS"
   ]
  },
  {
   "cell_type": "code",
   "execution_count": null,
   "metadata": {},
   "outputs": [],
   "source": [
    "DATA_DIR = '/opt/ml/data/'\n",
    "FONT_DIR = '/opt/ml/fonts'\n",
    "\n",
    "bold_font = fm.FontProperties(fname=FONT_DIR+'/NanumSquareNeoOTF-Bd.otf')\n",
    "extrabold_font = fm.FontProperties(fname=FONT_DIR+'/NanumSquareNeoOTF-Eb.otf')\n",
    "heavy_font = fm.FontProperties(fname=FONT_DIR+'/NanumSquareNeoOTF-Hv.otf')\n",
    "light_font = fm.FontProperties(fname=FONT_DIR+'/NanumSquareNeoOTF-Lt.otf')\n",
    "regular_font = fm.FontProperties(fname=FONT_DIR+'/NanumSquareNeoOTF-Rg.otf')\n",
    "\n",
    "data = pd.read_csv(DATA_DIR+'train.csv')"
   ]
  },
  {
   "cell_type": "code",
   "execution_count": null,
   "metadata": {},
   "outputs": [],
   "source": [
    "data.isnull().sum()"
   ]
  },
  {
   "cell_type": "code",
   "execution_count": null,
   "metadata": {},
   "outputs": [],
   "source": [
    "xpos = [i for i in range(len(data.target.unique()))]\n",
    "plt.title(\"데이터의 label 별 분포도\", fontproperties=bold_font, fontsize = 20)\n",
    "plt.bar(xpos, data.target.value_counts(sort=False))\n",
    "plt.xticks(xpos, data.target.unique(), fontproperties=regular_font)"
   ]
  },
  {
   "cell_type": "code",
   "execution_count": null,
   "metadata": {},
   "outputs": [],
   "source": [
    "lengths = [len(string) for string in data.text]\n",
    "sns.set(style='whitegrid')\n",
    "plt.title(\"문자열 길이 분포\", fontproperties = bold_font, size=20)\n",
    "ax = sns.violinplot(y=lengths)"
   ]
  },
  {
   "cell_type": "code",
   "execution_count": null,
   "metadata": {},
   "outputs": [],
   "source": [
    "duplicate_ID = set()\n",
    "for i, c in zip(data.ID.unique(), data.ID.value_counts(sort=False)):\n",
    "    if c > 1:\n",
    "        duplicate_ID.add(i)\n",
    "print(\"중복 ID(노이즈 데이터로 예상) 개수:\", len(duplicate_ID))"
   ]
  },
  {
   "cell_type": "code",
   "execution_count": null,
   "metadata": {},
   "outputs": [],
   "source": []
  }
 ],
 "metadata": {
  "kernelspec": {
   "display_name": "base",
   "language": "python",
   "name": "python3"
  },
  "language_info": {
   "codemirror_mode": {
    "name": "ipython",
    "version": 3
   },
   "file_extension": ".py",
   "mimetype": "text/x-python",
   "name": "python",
   "nbconvert_exporter": "python",
   "pygments_lexer": "ipython3",
   "version": "3.8.5"
  },
  "orig_nbformat": 4
 },
 "nbformat": 4,
 "nbformat_minor": 2
}
