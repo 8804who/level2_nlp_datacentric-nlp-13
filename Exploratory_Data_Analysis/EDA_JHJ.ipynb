{
 "cells": [
  {
   "cell_type": "code",
   "execution_count": null,
   "id": "afbaffe2-83a1-4c6b-bcf8-76a165fa8fbd",
   "metadata": {
    "tags": []
   },
   "outputs": [],
   "source": [
    "import pandas as pd\n",
    "import matplotlib.pyplot as plt\n",
    "import ast\n",
    "from collections import Counter\n",
    "import statistics"
   ]
  },
  {
   "attachments": {},
   "cell_type": "markdown",
   "id": "452857f6",
   "metadata": {},
   "source": [
    "### EDA by JHJ"
   ]
  },
  {
   "cell_type": "code",
   "execution_count": null,
   "id": "5838f269-7dca-485a-93f4-cec558472352",
   "metadata": {
    "tags": []
   },
   "outputs": [],
   "source": [
    "train=pd.read_csv('./data/train.csv')\n",
    "train"
   ]
  },
  {
   "cell_type": "code",
   "execution_count": null,
   "id": "d90ea10e-9698-43e8-80b1-c23b4bed0184",
   "metadata": {
    "tags": []
   },
   "outputs": [],
   "source": [
    "# Check basic information of train data\n",
    "train.info()"
   ]
  },
  {
   "attachments": {},
   "cell_type": "markdown",
   "id": "b84b536b-5ac5-4298-b2e1-a9040b04a194",
   "metadata": {},
   "source": [
    "### 1. Find Duplicated URLs in a dataset"
   ]
  },
  {
   "cell_type": "code",
   "execution_count": null,
   "id": "5b3cc539-f347-43d6-9935-823913d0d8e8",
   "metadata": {
    "tags": []
   },
   "outputs": [],
   "source": [
    "dup_train = train[train.duplicated(subset='url',keep=False)]\n",
    "dup_train"
   ]
  },
  {
   "cell_type": "code",
   "execution_count": null,
   "id": "45c3b4b3-4298-45d4-a3c3-9d6cb2b5695f",
   "metadata": {
    "tags": []
   },
   "outputs": [],
   "source": [
    "#Check the number of dudplicated URLs in the dataset\n",
    "len(dup_train['url'].unique())"
   ]
  },
  {
   "attachments": {},
   "cell_type": "markdown",
   "id": "47092961-657b-4fe1-b620-f6df200df0ad",
   "metadata": {},
   "source": [
    "### 2. The distribution of 'label_text'"
   ]
  },
  {
   "cell_type": "code",
   "execution_count": null,
   "id": "c9a38b50-0ae9-47cd-8519-240fd64e861e",
   "metadata": {
    "tags": []
   },
   "outputs": [],
   "source": [
    "train.target.value_counts().plot(kind='bar')"
   ]
  },
  {
   "attachments": {},
   "cell_type": "markdown",
   "id": "6a311af9-e9ce-438e-8110-f614790bd33f",
   "metadata": {},
   "source": [
    "### 3. Compare 'label_text' and 'annotations' to check each texts label"
   ]
  },
  {
   "cell_type": "code",
   "execution_count": null,
   "id": "1ad096cc-1321-4f2b-b9a4-2e2616332589",
   "metadata": {
    "tags": []
   },
   "outputs": [],
   "source": [
    "#check datatypes for each columns\n",
    "train.dtypes"
   ]
  },
  {
   "cell_type": "code",
   "execution_count": null,
   "id": "2822c8dc-2cf5-46ee-843a-9ccb7a98b23d",
   "metadata": {
    "tags": []
   },
   "outputs": [],
   "source": [
    "#Evaluate a string containing a dinctionary\n",
    "annotations=[]\n",
    "for i in range(len(train)):\n",
    "    annotations.append(ast.literal_eval(train.loc[i,'annotations']))"
   ]
  },
  {
   "cell_type": "code",
   "execution_count": null,
   "id": "733f54fd-e465-4c8c-9a77-86fd3d579273",
   "metadata": {
    "tags": []
   },
   "outputs": [],
   "source": [
    "count=0\n",
    "pd.options.display.max_colwidth=2000\n",
    "\n",
    "#Check if each text has a the correct label based on annotations\n",
    "for i in range(len(train)):\n",
    "    text=Counter(annotations[i]['annotations']['first-scope']).most_common(1)[0][0]\n",
    "    if train.loc[i,'label_text']!=text:\n",
    "        count+=1\n",
    "print(count)"
   ]
  },
  {
   "attachments": {},
   "cell_type": "markdown",
   "id": "b180bfb0-cf05-4b50-9813-dcb64fe88a25",
   "metadata": {},
   "source": [
    "### 4. Compare predefined_news_category and label_text"
   ]
  },
  {
   "cell_type": "code",
   "execution_count": null,
   "id": "b2c30711-c51b-450c-a4f4-943b137d80dc",
   "metadata": {
    "tags": []
   },
   "outputs": [],
   "source": [
    "train['result'] = train['label_text'] != train['predefined_news_category']\n",
    "not_match=train[train['result']]\n",
    "not_match"
   ]
  },
  {
   "attachments": {},
   "cell_type": "markdown",
   "id": "45c8e5f0-42a2-4cff-b5b0-6f6467681b9e",
   "metadata": {},
   "source": [
    "### The distribution of sentence lengths"
   ]
  },
  {
   "cell_type": "code",
   "execution_count": null,
   "id": "64dd7f66-eb1c-4e59-9351-e2b36f29d808",
   "metadata": {
    "tags": []
   },
   "outputs": [],
   "source": [
    "sen=train['input_text'].tolist()\n",
    "sen_len=[len(i) for i in sen]"
   ]
  },
  {
   "cell_type": "code",
   "execution_count": null,
   "id": "b054133b-2686-4c64-a55a-c8b14ed0d9e8",
   "metadata": {
    "tags": []
   },
   "outputs": [],
   "source": [
    "#plt.figure(figsize=(20,10))\n",
    "mean_len = statistics.mean(sen_len)\n",
    "plt.hist(sen_len, bins=50)\n",
    "plt.axvline(x=mean_len, color='r', linestyle='dashed', linewidth=1)\n",
    "plt.show()"
   ]
  },
  {
   "cell_type": "code",
   "execution_count": null,
   "id": "cafa2e8f-701f-4454-ba2f-24fcce3884ba",
   "metadata": {
    "tags": []
   },
   "outputs": [],
   "source": [
    "print(mean_len)"
   ]
  }
 ],
 "metadata": {
  "kernelspec": {
   "display_name": "Python 3 (ipykernel)",
   "language": "python",
   "name": "python3"
  },
  "language_info": {
   "codemirror_mode": {
    "name": "ipython",
    "version": 3
   },
   "file_extension": ".py",
   "mimetype": "text/x-python",
   "name": "python",
   "nbconvert_exporter": "python",
   "pygments_lexer": "ipython3",
   "version": "3.8.5"
  }
 },
 "nbformat": 4,
 "nbformat_minor": 5
}
